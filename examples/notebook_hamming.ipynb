{
 "cells": [
  {
   "cell_type": "markdown",
   "metadata": {},
   "source": [
    "# Tutorial: Binary Intrinsic Dimension"
   ]
  },
  {
   "cell_type": "markdown",
   "metadata": {},
   "source": [
    "## Measuring the BID of random bits:"
   ]
  },
  {
   "cell_type": "code",
   "execution_count": 1,
   "metadata": {},
   "outputs": [],
   "source": [
    "import os\n",
    "import numpy as np\n",
    "import matplotlib.pyplot as plt\n",
    "\n",
    "# this environmental variable must be set <before> the BID imports, to work with JAX double-precision\n",
    "os.environ[\"JAX_ENABLE_X64\"] = \"True\"\n",
    "from dadapy.hamming import BID, Hamming\n",
    "\n",
    "# REPRODUCIBILITY\n",
    "seed = 1\n",
    "np.random.seed(seed=seed)"
   ]
  },
  {
   "cell_type": "code",
   "execution_count": 2,
   "metadata": {},
   "outputs": [],
   "source": [
    "# RANDOM DATA\n",
    "L = 100  # number of bits\n",
    "Ns = 5000  # number of samples\n",
    "\n",
    "# spins must be normalized to +-1\n",
    "X = (2 * np.random.randint(low=0, high=2, size=(Ns, L)) - 1)"
   ]
  },
  {
   "cell_type": "code",
   "execution_count": 3,
   "metadata": {},
   "outputs": [],
   "source": [
    "# DEFINING COORDINATES\n",
    "H = Hamming(coordinates=X)\n",
    "\n",
    "# COMPUTING DISTANCES\n",
    "H.compute_distances()\n",
    "\n",
    "# COMPUTING HISTOGRAM OF DISTANCES, NOT SAVING IT\n",
    "histfolder = f'datasets/hamming/random_spins/L{L}/hist/'\n",
    "H.D_histogram(compute_flag=1,\n",
    "              save=True,\n",
    "              resultsfolder=histfolder)"
   ]
  },
  {
   "cell_type": "markdown",
   "metadata": {},
   "source": [
    "### OPTIMIZATION"
   ]
  },
  {
   "cell_type": "code",
   "execution_count": 10,
   "metadata": {},
   "outputs": [
    {
     "name": "stdout",
     "output_type": "stream",
     "text": [
      "starting optimization\n",
      "optimization took 0.0 minutes\n",
      "d_0=99.529,d_1=0.015,logKL=-12.06\n"
     ]
    }
   ],
   "source": [
    "# PARAMETER DEFINITIONS FOR OPTIMIZATION\n",
    "alphamin = 0  # order of  min_quantile, to remove poorly sampled parts of the histogram\n",
    "alphamax = .3  # order of max_quantile, to define r* (named rmax here).\n",
    "delta = 5e-3  # stochastic optimization step\n",
    "Nsteps = int(1e5)  # number of optimization steps\n",
    "optfolder0 = f\"datasets/hamming/random_spins/L{L}/opt/\"  # folder where optimization results are saved\n",
    "export_results = 0 # flag to export d0,d1,logKL,Pemp,Pmodel after optimization (default=1)\n",
    "export_logKLs = 0  # flag to export the logKLs during optimization (default=0)\n",
    "\n",
    "B = BID(\n",
    "    H,\n",
    "    alphamin=alphamin,\n",
    "    alphamax=alphamax,\n",
    "    seed=seed,\n",
    "    delta=delta,\n",
    "    Nsteps=Nsteps,\n",
    "    export_results=export_results,\n",
    "    export_logKLs=export_logKLs,\n",
    "    optfolder0=optfolder0,\n",
    "    L=L,\n",
    ")\n",
    "\n",
    "B.computeBID()  # results are exported and defined as attributes of B"
   ]
  },
  {
   "cell_type": "code",
   "execution_count": 11,
   "metadata": {},
   "outputs": [
    {
     "data": {
      "image/png": "[encoded data removed]",
      "text/plain": [
       "<Figure size 640x480 with 1 Axes>"
      ]
     },
     "metadata": {},
     "output_type": "display_data"
    }
   ],
   "source": [
    "fig,ax = plt.subplots(1)\n",
    "\n",
    "# empirical distribution of distances:\n",
    "ax.plot(B.remp/B.L,\n",
    "        B.Pemp,\n",
    "        'x',\n",
    "        )\n",
    "# model fit\n",
    "ax.plot(B.remp/B.L,\n",
    "        B.Pmodel,\n",
    "        '-',\n",
    "        color='black',\n",
    "        )\n",
    "plt.show()\n"
   ]
  },
  {
   "cell_type": "markdown",
   "metadata": {},
   "source": [
    "## BID OF "
   ]
  },
  {
   "cell_type": "code",
   "execution_count": null,
   "metadata": {},
   "outputs": [],
   "source": []
  },
  {
   "cell_type": "code",
   "execution_count": null,
   "metadata": {},
   "outputs": [],
   "source": []
  }
 ],
 "metadata": {
  "kernelspec": {
   "display_name": "venv",
   "language": "python",
   "name": "python3"
  },
  "language_info": {
   "codemirror_mode": {
    "name": "ipython",
    "version": 3
   },
   "file_extension": ".py",
   "mimetype": "text/x-python",
   "name": "python",
   "nbconvert_exporter": "python",
   "pygments_lexer": "ipython3",
   "version": "3.12.3"
  }
 },
 "nbformat": 4,
 "nbformat_minor": 2
}
